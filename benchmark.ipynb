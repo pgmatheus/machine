{
 "cells": [
  {
   "cell_type": "code",
   "execution_count": 2,
   "metadata": {},
   "outputs": [
    {
     "ename": "AttributeError",
     "evalue": "module 'tensorflow' has no attribute 'GraphOptions'",
     "output_type": "error",
     "traceback": [
      "\u001b[1;31m---------------------------------------------------------------------------\u001b[0m",
      "\u001b[1;31mAttributeError\u001b[0m                            Traceback (most recent call last)",
      "Cell \u001b[1;32mIn[2], line 16\u001b[0m\n\u001b[0;32m     12\u001b[0m     product \u001b[39m=\u001b[39m tf\u001b[39m.\u001b[39mmatmul(matrix1, matrix2)\n\u001b[0;32m     15\u001b[0m \u001b[39m# avoid optimizing away redundant nodes\u001b[39;00m\n\u001b[1;32m---> 16\u001b[0m config \u001b[39m=\u001b[39m tf\u001b[39m.\u001b[39mcompat\u001b[39m.\u001b[39mv1\u001b[39m.\u001b[39mConfigProto(graph_options\u001b[39m=\u001b[39mtf\u001b[39m.\u001b[39;49mGraphOptions(optimizer_options\u001b[39m=\u001b[39mtf\u001b[39m.\u001b[39mOptimizerOptions(opt_level\u001b[39m=\u001b[39mtf\u001b[39m.\u001b[39mOptimizerOptions\u001b[39m.\u001b[39mL0)))\n\u001b[0;32m     17\u001b[0m sess \u001b[39m=\u001b[39m tf\u001b[39m.\u001b[39mSession(config\u001b[39m=\u001b[39mconfig)\n\u001b[0;32m     19\u001b[0m sess\u001b[39m.\u001b[39mrun(tf\u001b[39m.\u001b[39mglobal_variables_initializer())\n",
      "\u001b[1;31mAttributeError\u001b[0m: module 'tensorflow' has no attribute 'GraphOptions'"
     ]
    }
   ],
   "source": [
    "import numpy as np\n",
    "import tensorflow as tf\n",
    "from tensorflow.python.client import device_lib\n",
    "from timeit import default_timer as timer\n",
    "\n",
    "model = tf.keras.Sequential()\n",
    "model.add(tf.keras.layers.Dense(64, activation='relu'))\n",
    "model.add(tf.keras.layers.Dense(64, activation='relu'))\n",
    "model.add(tf.keras.layers.Dense(10, activation='softmax'))\n",
    "\n",
    "model.compile(optimizer=tf.compat.v1.train.AdamOptimizer(0.001),\n",
    "              loss='categorical_crossentropy',\n",
    "              metrics=['accuracy'])\n",
    "\n",
    "\n",
    "def random_one_hot_labels(shape):\n",
    "    n, n_class = shape\n",
    "    classes = np.random.randint(0, n_class, n)\n",
    "    tmp_labels = np.zeros((n, n_class))\n",
    "    tmp_labels[np.arange(n), classes] = 1\n",
    "    return tmp_labels\n",
    "\n",
    "\n",
    "data = np.random.random((1000, 32))\n",
    "labels = random_one_hot_labels((1000, 10))\n",
    "\n",
    "durations = []\n",
    "for i in range(10):  # run N times\n",
    "    start = timer()\n",
    "    model.fit(data, labels, epochs=500, batch_size=32)\n",
    "    durations.append(timer() - start)\n",
    "\n",
    "print(f\"tf.version.VERSION = {tf.version.VERSION}\")\n",
    "print(f\"tf.keras.__version__ = {tf.keras.__version__}\")\n",
    "devices = device_lib.list_local_devices()  # this may allocate all GPU memory ?!\n",
    "print(f\"devices = {[x.name for x in devices]}\")\n",
    "print(f\"model.fit durations: {durations}\")"
   ]
  }
 ],
 "metadata": {
  "kernelspec": {
   "display_name": "Python 3",
   "language": "python",
   "name": "python3"
  },
  "language_info": {
   "codemirror_mode": {
    "name": "ipython",
    "version": 3
   },
   "file_extension": ".py",
   "mimetype": "text/x-python",
   "name": "python",
   "nbconvert_exporter": "python",
   "pygments_lexer": "ipython3",
   "version": "3.10.9 (tags/v3.10.9:1dd9be6, Dec  6 2022, 20:01:21) [MSC v.1934 64 bit (AMD64)]"
  },
  "orig_nbformat": 4,
  "vscode": {
   "interpreter": {
    "hash": "48434fea92bcfa521232aa698a59dbef67c96a63793f88c53e51c3c6eaedc268"
   }
  }
 },
 "nbformat": 4,
 "nbformat_minor": 2
}
