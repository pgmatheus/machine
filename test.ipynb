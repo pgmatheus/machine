{
 "cells": [
  {
   "cell_type": "code",
   "execution_count": 39,
   "metadata": {},
   "outputs": [],
   "source": [
    "import tensorflow as tf\n",
    "from tensorflow.keras import Sequential, layers, mixed_precision\n",
    "from tensorflow.keras.layers import ReLU, RandomContrast, RandomTranslation, RandomFlip, RandomRotation, Input, LeakyReLU, Conv2D, Activation, MaxPool2D, Flatten, Dense, Reshape, Conv2DTranspose, UpSampling2D, BatchNormalization, Dropout\n",
    "from tensorflow.keras.callbacks import Callback\n",
    "from pathlib import Path\n",
    "import os\n",
    "import pathlib\n",
    "import time\n",
    "import datetime\n",
    "from matplotlib import pyplot as plt\n",
    "import cv2 #pip install opencv-python\n",
    "import numpy as np\n",
    "from glob import glob \n",
    "from tensorflow.keras import backend as K\n",
    "from contextlib import redirect_stdout\n",
    "from tensorflow.keras.models import Model\n",
    "import time\n",
    "import random\n",
    "\n",
    "PRECISION = tf.float32"
   ]
  },
  {
   "cell_type": "code",
   "execution_count": 40,
   "metadata": {},
   "outputs": [
    {
     "data": {
      "text/plain": [
       "True"
      ]
     },
     "execution_count": 40,
     "metadata": {},
     "output_type": "execute_result"
    }
   ],
   "source": [
    "def apply_gauss_and_sharpen(img):\n",
    "    \n",
    "    blur = cv2.GaussianBlur(img,(5,5),0)\n",
    "    kernel = np.array([[0, -1, 0],\n",
    "                   [-1, 5,-1],\n",
    "                   [0, -1, 0]])\n",
    "    image_sharp = cv2.filter2D(src=blur, ddepth=-1, kernel=kernel)\n",
    "    return image_sharp\n",
    "\n",
    "def process_img2(file_path):\n",
    "    img = tf.io.read_file(file_path)\n",
    "    img = tf.image.decode_jpeg(img, channels=3)\n",
    "    img = apply_gauss_and_sharpen(img.numpy())\n",
    "    img = tf.image.convert_image_dtype(img, PRECISION)\n",
    "    img = tf.image.resize(img, size=(1250 ,    878), antialias=True,method=tf.image.ResizeMethod.BILINEAR, preserve_aspect_ratio=False,)\n",
    "    return img\n",
    "\n",
    "z = process_img2('G:\\\\Deletar\\\\pictures_conv\\\\04.jpg')*255\n",
    "\n",
    "cv2.imwrite('G:\\\\Deletar\\\\pictures_conv\\\\04_mod.jpg', z.numpy())\n"
   ]
  }
 ],
 "metadata": {
  "kernelspec": {
   "display_name": "tf",
   "language": "python",
   "name": "python3"
  },
  "language_info": {
   "codemirror_mode": {
    "name": "ipython",
    "version": 3
   },
   "file_extension": ".py",
   "mimetype": "text/x-python",
   "name": "python",
   "nbconvert_exporter": "python",
   "pygments_lexer": "ipython3",
   "version": "3.9.15"
  },
  "orig_nbformat": 4,
  "vscode": {
   "interpreter": {
    "hash": "b2920df7931abb429103ba85be4f143bf64cc29fe08904a577bcc33052e2165b"
   }
  }
 },
 "nbformat": 4,
 "nbformat_minor": 2
}
