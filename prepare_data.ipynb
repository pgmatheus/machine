{
 "cells": [
  {
   "cell_type": "code",
   "execution_count": 3,
   "metadata": {},
   "outputs": [],
   "source": [
    "import tensorflow as tf\n",
    "from tensorflow.keras import Sequential\n",
    "from tensorflow.keras.layers import Conv2D, MaxPool2D, Flatten, Dense\n",
    "import os\n",
    "import matplotlib.pyplot as plt \n",
    "import matplotlib.image as mpimg\n",
    "import numpy as np\n",
    "from tensorflow.keras.preprocessing.image import ImageDataGenerator\n",
    "import pathlib\n",
    "import time\n",
    "import datetime\n",
    "from IPython import display\n",
    "import random\n",
    "\n",
    "\n",
    "\n",
    "data_directory = 'D:\\\\Deletar\\\\pictures'\n",
    "test_directory = 'D:\\\\Deletar\\\\pictures_conv'\n",
    "tf.random.set_seed(42) \n",
    "SIZE = [1024,1024]"
   ]
  },
  {
   "cell_type": "code",
   "execution_count": 4,
   "metadata": {},
   "outputs": [
    {
     "name": "stdout",
     "output_type": "stream",
     "text": [
      "bleach\n",
      "1\n",
      "one piece\n",
      "2\n"
     ]
    },
    {
     "ename": "IndexError",
     "evalue": "list index out of range",
     "output_type": "error",
     "traceback": [
      "\u001b[1;31m---------------------------------------------------------------------------\u001b[0m",
      "\u001b[1;31mIndexError\u001b[0m                                Traceback (most recent call last)",
      "Cell \u001b[1;32mIn[4], line 50\u001b[0m\n\u001b[0;32m     46\u001b[0m     \u001b[39mreturn\u001b[39;00m images\n\u001b[0;32m     48\u001b[0m X_test \u001b[39m=\u001b[39m load_images_from_folder(data_directory)\n\u001b[1;32m---> 50\u001b[0m plt\u001b[39m.\u001b[39mimshow(np\u001b[39m.\u001b[39marray(X_test[\u001b[39m0\u001b[39;49m], dtype\u001b[39m=\u001b[39m\u001b[39mint\u001b[39m))\n",
      "\u001b[1;31mIndexError\u001b[0m: list index out of range"
     ]
    }
   ],
   "source": [
    "def resize_image(data):\n",
    "    resized_img = tf.image.resize(\n",
    "    images=data,\n",
    "    size=SIZE,\n",
    "    method=tf.image.ResizeMethod.BILINEAR,\n",
    "    preserve_aspect_ratio=False,\n",
    "    antialias=False,\n",
    "    name=None\n",
    "    )    \n",
    "    return resized_img\n",
    "\n",
    "\n",
    "\n",
    "\n",
    "def save_f(img,filename):\n",
    "    rdn = random.uniform(0, 1)\n",
    "    dir_save = \"\"\n",
    "    if (0.8 > rdn):\n",
    "        dir_save = f\"{test_directory}\\\\train\\\\{filename}.jpg\"\n",
    "    else:\n",
    "        dir_save = f\"{test_directory}\\\\test\\\\{filename}.jpg\"\n",
    "    \n",
    "    \n",
    "\n",
    "def load_images_from_folder(folder):\n",
    "    images = []\n",
    "    cont = 0\n",
    "    cont2 = 0    \n",
    "    for folder in os.listdir(folder):\n",
    "        for filename in os.listdir(f\"{data_directory}\\\\{folder}\"):            \n",
    "            cont2 = cont2 + 1\n",
    "            if (not os.path.exists(os.path.join(f\"{data_directory}\\\\{folder}\",filename))):\n",
    "                try:\n",
    "                    img1 = resize_image(plt.imread(os.path.join(f\"{data_directory}\\\\{folder}\",filename)))\n",
    "                    img2 =  tf.image.rgb_to_grayscale(img1)\n",
    "                    img2 = np.concatenate((img2,img2,img2),axis=-1)\n",
    "                    img_merged = tf.concat([img1, img2], 1)\n",
    "                    if img_merged is not None:\n",
    "                        save_f(img_merged,filename)\n",
    "                        images.append(img_merged)\n",
    "                except:\n",
    "                    cont = cont + 1\n",
    "                    print(f\"Error in {cont}\")\n",
    "            print(cont2)\n",
    "    return images\n",
    "\n",
    "X_test = load_images_from_folder(data_directory)\n",
    "\n",
    "plt.imshow(np.array(X_test[0], dtype=int))\n"
   ]
  }
 ],
 "metadata": {
  "kernelspec": {
   "display_name": "Python 3",
   "language": "python",
   "name": "python3"
  },
  "language_info": {
   "codemirror_mode": {
    "name": "ipython",
    "version": 3
   },
   "file_extension": ".py",
   "mimetype": "text/x-python",
   "name": "python",
   "nbconvert_exporter": "python",
   "pygments_lexer": "ipython3",
   "version": "3.10.9 (tags/v3.10.9:1dd9be6, Dec  6 2022, 20:01:21) [MSC v.1934 64 bit (AMD64)]"
  },
  "orig_nbformat": 4,
  "vscode": {
   "interpreter": {
    "hash": "48434fea92bcfa521232aa698a59dbef67c96a63793f88c53e51c3c6eaedc268"
   }
  }
 },
 "nbformat": 4,
 "nbformat_minor": 2
}
