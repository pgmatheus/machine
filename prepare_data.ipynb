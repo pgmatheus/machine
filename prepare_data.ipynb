{
 "cells": [
  {
   "cell_type": "code",
   "execution_count": 1,
   "metadata": {},
   "outputs": [],
   "source": [
    "import tensorflow as tf\n",
    "from tensorflow.keras import Sequential\n",
    "from tensorflow.keras.layers import Conv2D, MaxPool2D, Flatten, Dense\n",
    "import os\n",
    "import matplotlib.pyplot as plt \n",
    "import matplotlib.image as mpimg\n",
    "import numpy as np\n",
    "from tensorflow.keras.preprocessing.image import ImageDataGenerator\n",
    "import pathlib\n",
    "import time\n",
    "import datetime\n",
    "from IPython import display\n",
    "import random\n",
    "\n",
    "\n",
    "\n",
    "data_directory = 'D:\\\\Deletar\\\\pictures'\n",
    "test_directory = 'C:\\\\Files\\\\manga\\\\argurmented'\n",
    "tf.random.set_seed(42) \n",
    "SIZE = [2560,2560]"
   ]
  },
  {
   "cell_type": "code",
   "execution_count": 2,
   "metadata": {},
   "outputs": [],
   "source": [
    "def resize_image(data):\n",
    "    resized_img = tf.image.resize(\n",
    "    images=data,\n",
    "    size=SIZE,\n",
    "    method=tf.image.ResizeMethod.BILINEAR,\n",
    "    preserve_aspect_ratio=False,\n",
    "    antialias=False,\n",
    "    name=None\n",
    "    )    \n",
    "    return resized_img\n",
    "\n",
    "cont = 0\n",
    "\n",
    "def save_f(img,filename):\n",
    "    rdn = random.uniform(0, 1)\n",
    "    dir_save = \"\"\n",
    "    if (0.66 > rdn):\n",
    "        dir_save = f\"{test_directory}\\\\train\\\\{filename}.jpg\"\n",
    "    elif (0.82 > rdn):\n",
    "        dir_save = f\"{test_directory}\\\\test\\\\{filename}.jpg\"\n",
    "    else:\n",
    "         dir_save = f\"{test_directory}\\\\val\\\\{filename}.jpg\"\n",
    "    tf.keras.preprocessing.image.save_img(dir_save, img)\n",
    "    \n",
    "\n",
    "def load_images_from_folder(folder):\n",
    "    images = []\n",
    "    for filename in os.listdir(folder):\n",
    "        global cont\n",
    "        try:\n",
    "            img1 = resize_image(plt.imread(os.path.join(folder,filename)))\n",
    "            img2 =  tf.image.rgb_to_grayscale(img1)\n",
    "            img2 = np.concatenate((img2,img2,img2),axis=-1)\n",
    "            img_merged = tf.concat([img1, img2], 1)\n",
    "            if img_merged is not None:\n",
    "                save_f(img_merged,filename)\n",
    "                images.append(img_merged)\n",
    "        except:\n",
    "            cont = cont + 1\n",
    "    return images\n",
    "\n",
    "X_test = load_images_from_folder(data_directory)\n",
    "\n",
    "plt.imshow(np.array(X_test[0], dtype=int))\n"
   ]
  }
 ],
 "metadata": {
  "kernelspec": {
   "display_name": "Python 3",
   "language": "python",
   "name": "python3"
  },
  "language_info": {
   "codemirror_mode": {
    "name": "ipython",
    "version": 3
   },
   "file_extension": ".py",
   "mimetype": "text/x-python",
   "name": "python",
   "nbconvert_exporter": "python",
   "pygments_lexer": "ipython3",
   "version": "3.10.9"
  },
  "orig_nbformat": 4,
  "vscode": {
   "interpreter": {
    "hash": "48434fea92bcfa521232aa698a59dbef67c96a63793f88c53e51c3c6eaedc268"
   }
  }
 },
 "nbformat": 4,
 "nbformat_minor": 2
}
