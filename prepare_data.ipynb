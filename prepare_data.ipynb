{
 "cells": [
  {
   "cell_type": "code",
   "execution_count": 3,
   "metadata": {},
   "outputs": [],
   "source": [
    "import tensorflow as tf\n",
    "from tensorflow.keras import Sequential\n",
    "from tensorflow.keras.layers import Conv2D, MaxPool2D, Flatten, Dense\n",
    "import os\n",
    "import matplotlib.pyplot as plt \n",
    "import matplotlib.image as mpimg\n",
    "import numpy as np\n",
    "from tensorflow.keras.preprocessing.image import ImageDataGenerator\n",
    "import pathlib\n",
    "import time\n",
    "import datetime\n",
    "from IPython import display\n",
    "import random\n",
    "\n",
    "\n",
    "\"\"\" processed_dir = [\"0001 - bleach\", \"0002 - one piece\",\"0003 - marvel\",\"0004 - DC\", \"0005 - Love\", \"0006 - soma\", \n",
    "                        \"0007 - ishoujo\", \"0008 - vagabond\", \"0009 - vampire r\", \"0010 - gintama\", \"0011 - gantz\", \"0012 - chainsaw\" ] \"\"\"\n",
    "\"\"\" processed_dir = [\"\"] \"\"\"\n",
    "\n",
    "processed_dir = [\"0003 - marvel\",\"0004 - DC\", ]\n",
    "\n",
    "\n",
    "data_directory = 'D:\\\\Deletar\\\\pictures'\n",
    "test_directory = 'G:\\\\Deletar\\\\pictures_conv'\n",
    "tf.random.set_seed(42) \n",
    "SIZE = [128,128]"
   ]
  },
  {
   "cell_type": "code",
   "execution_count": 4,
   "metadata": {},
   "outputs": [
    {
     "ename": "KeyboardInterrupt",
     "evalue": "",
     "output_type": "error",
     "traceback": [
      "\u001b[1;31m---------------------------------------------------------------------------\u001b[0m",
      "\u001b[1;31mKeyboardInterrupt\u001b[0m                         Traceback (most recent call last)",
      "Cell \u001b[1;32mIn[4], line 50\u001b[0m\n\u001b[0;32m     47\u001b[0m                 \u001b[39mprint\u001b[39m(cont2)\n\u001b[0;32m     48\u001b[0m     \u001b[39mreturn\u001b[39;00m images\n\u001b[1;32m---> 50\u001b[0m X_test \u001b[39m=\u001b[39m load_images_from_folder(data_directory)\n",
      "Cell \u001b[1;32mIn[4], line 33\u001b[0m, in \u001b[0;36mload_images_from_folder\u001b[1;34m(folder)\u001b[0m\n\u001b[0;32m     31\u001b[0m \u001b[39mfor\u001b[39;00m folder \u001b[39min\u001b[39;00m os\u001b[39m.\u001b[39mlistdir(folder):\n\u001b[0;32m     32\u001b[0m     \u001b[39mif\u001b[39;00m \u001b[39mnot\u001b[39;00m folder \u001b[39min\u001b[39;00m processed_dir:\n\u001b[1;32m---> 33\u001b[0m         \u001b[39mfor\u001b[39;00m filename \u001b[39min\u001b[39;00m os\u001b[39m.\u001b[39;49mlistdir(os\u001b[39m.\u001b[39;49mpath\u001b[39m.\u001b[39;49mjoin(\u001b[39mf\u001b[39;49m\u001b[39m\"\u001b[39;49m\u001b[39m{\u001b[39;49;00mdata_directory\u001b[39m}\u001b[39;49;00m\u001b[39m\\\\\u001b[39;49;00m\u001b[39m{\u001b[39;49;00mfolder\u001b[39m}\u001b[39;49;00m\u001b[39m\"\u001b[39;49m)):        \n\u001b[0;32m     34\u001b[0m             cont2 \u001b[39m=\u001b[39m cont2 \u001b[39m+\u001b[39m \u001b[39m1\u001b[39m\n\u001b[0;32m     35\u001b[0m             \u001b[39mif\u001b[39;00m (\u001b[39mnot\u001b[39;00m os\u001b[39m.\u001b[39mpath\u001b[39m.\u001b[39mexists(os\u001b[39m.\u001b[39mpath\u001b[39m.\u001b[39mjoin(\u001b[39mf\u001b[39m\u001b[39m\"\u001b[39m\u001b[39m{\u001b[39;00mdata_directory\u001b[39m}\u001b[39;00m\u001b[39m\\\\\u001b[39;00m\u001b[39m{\u001b[39;00mfolder\u001b[39m}\u001b[39;00m\u001b[39m\\\\\u001b[39;00m\u001b[39m\"\u001b[39m,filename\u001b[39m+\u001b[39m\u001b[39m\"\u001b[39m\u001b[39m.jpg\u001b[39m\u001b[39m\"\u001b[39m))):                        \n",
      "\u001b[1;31mKeyboardInterrupt\u001b[0m: "
     ]
    }
   ],
   "source": [
    "def resize_image(data):\n",
    "    resized_img = tf.image.resize(\n",
    "    images=data,\n",
    "    size=SIZE,\n",
    "    method=tf.image.ResizeMethod.BILINEAR,\n",
    "    preserve_aspect_ratio=False,\n",
    "    antialias=False,\n",
    "\n",
    "    \n",
    "    name=None\n",
    "    )    \n",
    "    return resized_img\n",
    "\n",
    "\n",
    "\n",
    "\n",
    "def save_f(img,filename,contI):\n",
    "    dir_save = \"\"\n",
    "    if (contI % 5 != 0):\n",
    "        dir_save = f\"{test_directory}\\\\train\\\\{filename}.jpg\"\n",
    "    else:\n",
    "        dir_save = f\"{test_directory}\\\\test\\\\{filename}.jpg\"\n",
    "    tf.keras.preprocessing.image.save_img(dir_save, img)\n",
    "    \n",
    "#if (os.path.exists(os.path.join(f\"{data_directory}\\\\{folder}\",filename+\".jpg\"))):    \n",
    "\n",
    "def load_images_from_folder(folder):\n",
    "    images = []\n",
    "    cont = 0\n",
    "    cont2 = 0    \n",
    "    for folder in os.listdir(folder):\n",
    "        if not folder in processed_dir:\n",
    "            for filename in os.listdir(os.path.join(f\"{data_directory}\\\\{folder}\")):        \n",
    "                cont2 = cont2 + 1\n",
    "                if (not os.path.exists(os.path.join(f\"{data_directory}\\\\{folder}\\\\\",filename+\".jpg\"))):                        \n",
    "                    try:\n",
    "                        img1 = resize_image(plt.imread(os.path.join(f\"{data_directory}\\\\{folder}\\\\\",filename)))\n",
    "                        img2 =  tf.image.rgb_to_grayscale(img1)\n",
    "                        img2 = np.concatenate((img2,img2,img2),axis=-1)\n",
    "                        img_merged = tf.concat([img1, img2], 1)\n",
    "                        if img_merged is not None:\n",
    "                            save_f(img_merged,filename,cont2)\n",
    "                            \"\"\" images.append(img_merged) \"\"\"\n",
    "                    except:\n",
    "                            cont = cont + 1\n",
    "                            print(f\"Error in {cont}\")\n",
    "                print(cont2)\n",
    "    return images\n",
    "\n",
    "X_test = load_images_from_folder(data_directory)\n"
   ]
  }
 ],
 "metadata": {
  "kernelspec": {
   "display_name": "Python 3",
   "language": "python",
   "name": "python3"
  },
  "language_info": {
   "codemirror_mode": {
    "name": "ipython",
    "version": 3
   },
   "file_extension": ".py",
   "mimetype": "text/x-python",
   "name": "python",
   "nbconvert_exporter": "python",
   "pygments_lexer": "ipython3",
   "version": "3.10.9"
  },
  "orig_nbformat": 4,
  "vscode": {
   "interpreter": {
    "hash": "48434fea92bcfa521232aa698a59dbef67c96a63793f88c53e51c3c6eaedc268"
   }
  }
 },
 "nbformat": 4,
 "nbformat_minor": 2
}
