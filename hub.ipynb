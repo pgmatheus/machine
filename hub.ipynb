{
 "cells": [
  {
   "cell_type": "code",
   "execution_count": 1,
   "metadata": {},
   "outputs": [],
   "source": [
    "import tensorflow as tf\n",
    "import tensorflow_hub as hub\n",
    "import os\n",
    "from tensorflow.keras import layers\n",
    "from tensorflow.keras.preprocessing.image import ImageDataGenerator\n",
    "\n",
    "resnet_url = \"https://tfhub.dev/google/imagenet/resnet_v2_50/feature_vector/4\"\n",
    "\n",
    "efficientnet_url = \"https://tfhub.dev/tensorflow/efficientnet/b0/feature-vector/1\"\n",
    "\n",
    "dataset = tf.keras.utils.get_file(\n",
    "    fname=\"10_food_classes_10_percent.zip\", \n",
    "    origin=\"https://storage.googleapis.com/ztm_tf_course/food_vision/10_food_classes_10_percent.zip\", \n",
    "    extract=True,\n",
    ")\n",
    "\n",
    "current_directory = os.path.join(os.path.dirname(dataset)) + \"\\\\10_food_classes_10_percent\""
   ]
  },
  {
   "cell_type": "code",
   "execution_count": 2,
   "metadata": {},
   "outputs": [
    {
     "name": "stdout",
     "output_type": "stream",
     "text": [
      "Training images:\n",
      "Found 750 images belonging to 10 classes.\n",
      "Testing images:\n",
      "Found 2500 images belonging to 10 classes.\n"
     ]
    }
   ],
   "source": [
    "IMAGE_SHAPE = (224, 224)\n",
    "BATCH_SIZE = 32\n",
    "\n",
    "train_dir = current_directory + \"\\\\train\\\\\"\n",
    "test_dir = current_directory + \"\\\\test\\\\\"\n",
    "\n",
    "train_datagen = ImageDataGenerator(rescale=1/255.)\n",
    "test_datagen = ImageDataGenerator(rescale=1/255.)\n",
    "\n",
    "print(\"Training images:\")\n",
    "train_data_10_percent = train_datagen.flow_from_directory(train_dir, \n",
    "                                                          target_size=IMAGE_SHAPE,\n",
    "                                                          batch_size=BATCH_SIZE,\n",
    "                                                          class_mode=\"categorical\")\n",
    "\n",
    "print(\"Testing images:\")\n",
    "test_data = test_datagen.flow_from_directory(test_dir,\n",
    "                                             target_size=IMAGE_SHAPE,\n",
    "                                             batch_size=BATCH_SIZE,\n",
    "                                             class_mode=\"categorical\")\n",
    "\n",
    "def create_model(model_url, num_classes=10):\n",
    "    feature_extractor_layer = hub.KerasLayer(model_url,\n",
    "     trainable=False,\n",
    "     name=\"feature_extractor_layer\",\n",
    "     input_shape=IMAGE_SHAPE+(3,))\n",
    "    model = tf.keras.Sequential([\n",
    "    feature_extractor_layer,\n",
    "    layers.Dense(num_classes, activation=\"softmax\", name=\"output_layer\")\n",
    "    ])\n",
    "    return model\n"
   ]
  },
  {
   "cell_type": "code",
   "execution_count": 3,
   "metadata": {},
   "outputs": [],
   "source": [
    "resnet_model = create_model(\n",
    "    resnet_url,\n",
    "    num_classes=train_data_10_percent.num_classes\n",
    ")\n",
    "\n",
    "resnet_model.compile(\n",
    "    loss=\"categorical_crossentropy\",\n",
    "    optimizer=tf.keras.optimizers.Adam(),\n",
    "    metrics=[\"accuracy\"]\n",
    ")"
   ]
  },
  {
   "cell_type": "code",
   "execution_count": 4,
   "metadata": {},
   "outputs": [
    {
     "name": "stdout",
     "output_type": "stream",
     "text": [
      "Epoch 1/5\n",
      "24/24 [==============================] - 28s 847ms/step - loss: 1.9591 - accuracy: 0.3467 - val_loss: 1.1965 - val_accuracy: 0.6276\n",
      "Epoch 2/5\n",
      "24/24 [==============================] - 17s 734ms/step - loss: 0.9161 - accuracy: 0.7147 - val_loss: 0.8550 - val_accuracy: 0.7248\n",
      "Epoch 3/5\n",
      "24/24 [==============================] - 17s 737ms/step - loss: 0.6293 - accuracy: 0.8240 - val_loss: 0.7453 - val_accuracy: 0.7592\n",
      "Epoch 4/5\n",
      "24/24 [==============================] - 17s 730ms/step - loss: 0.4761 - accuracy: 0.8827 - val_loss: 0.6990 - val_accuracy: 0.7732\n",
      "Epoch 5/5\n",
      "24/24 [==============================] - 17s 725ms/step - loss: 0.3823 - accuracy: 0.9080 - val_loss: 0.6849 - val_accuracy: 0.7712\n"
     ]
    }
   ],
   "source": [
    "resnet_history = resnet_model.fit(\n",
    "    train_data_10_percent,\n",
    "    epochs=5,\n",
    "    steps_per_epoch=len(train_data_10_percent),\n",
    "    validation_data=test_data,\n",
    "    validation_steps=len(test_data),\n",
    ")"
   ]
  }
 ],
 "metadata": {
  "kernelspec": {
   "display_name": "tf_gpu",
   "language": "python",
   "name": "python3"
  },
  "language_info": {
   "codemirror_mode": {
    "name": "ipython",
    "version": 3
   },
   "file_extension": ".py",
   "mimetype": "text/x-python",
   "name": "python",
   "nbconvert_exporter": "python",
   "pygments_lexer": "ipython3",
   "version": "3.9.15 (main, Nov 24 2022, 14:39:17) [MSC v.1916 64 bit (AMD64)]"
  },
  "orig_nbformat": 4,
  "vscode": {
   "interpreter": {
    "hash": "d2706be0a6a75044df45b54b2b40201fdfd0e4f2eda047a683bf2b8798236b9b"
   }
  }
 },
 "nbformat": 4,
 "nbformat_minor": 2
}
