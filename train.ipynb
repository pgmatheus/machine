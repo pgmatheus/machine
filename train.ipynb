{
 "cells": [
  {
   "cell_type": "code",
<<<<<<< HEAD
   "execution_count": 1,
=======
   "execution_count": 66,
>>>>>>> c2caa4f6cea36bc0672f7177ae412ba2be5408d2
   "metadata": {},
   "outputs": [],
   "source": [
    "import tensorflow as tf # import tensorflow\n",
    "import numpy as np\n",
    "import matplotlib.pyplot as plt\n",
    "import pandas as pd\n",
    "from sklearn.model_selection import train_test_split\n",
<<<<<<< HEAD
    "from tensorflow import keras\n",
    "\n",
    "insurance = pd.read_csv(\"https://raw.githubusercontent.com/stedy/Machine-Learning-with-R-datasets/master/insurance.csv\", on_bad_lines='skip')\n",
    "insurance_one_hot = pd.get_dummies(insurance)\n",
    "# .iloc[0] search row\n",
    "# insurance_one_hot.loc[:,\"Grades\"] get column\n",
    "\n",
    "\n",
    "\n",
    "X = insurance_one_hot.drop([\"charges\"], axis=1)\n",
    "y = insurance_one_hot[\"charges\"]\n",
    "X_train, X_test, y_train, y_test = train_test_split(X, y, test_size= 0.2, random_state = 42)\n"
=======
    "from sklearn.compose import make_column_transformer\n",
    "from sklearn.preprocessing import MinMaxScaler, OneHotEncoder"
>>>>>>> c2caa4f6cea36bc0672f7177ae412ba2be5408d2
   ]
  },
  {
   "cell_type": "code",
<<<<<<< HEAD
   "execution_count": 2,
=======
   "execution_count": 67,
>>>>>>> c2caa4f6cea36bc0672f7177ae412ba2be5408d2
   "metadata": {},
   "outputs": [],
   "source": [
    " # model created\n",
    "model = tf.keras.Sequential([\n",
    "    tf.keras.layers.Dense(100),\n",
    "    tf.keras.layers.Dense(10),\n",
    "    tf.keras.layers.Dense(1),    \n",
    "])\n",
    "\n",
    "# compile model\n",
    "model.compile(loss=tf.keras.losses.mae,\n",
    "              optimizer=tf.keras.optimizers.Adam(learning_rate=0.1), \n",
    "              metrics=[\"mae\"]) \n",
    "\n",
<<<<<<< HEAD
    "history = model.fit(X_train, y_train, epochs=90, verbose=0)"
=======
    "insurance = pd.read_csv(\"https://raw.githubusercontent.com/stedy/Machine-Learning-with-R-datasets/master/insurance.csv\", on_bad_lines='skip')\n",
    "\n",
    "insurance_one_hot = pd.get_dummies(insurance)\n",
    "# .iloc[0] search row\n",
    "# insurance_one_hot.loc[:,\"Grades\"] get column\n",
    "\n",
    "ct = make_column_transformer(\n",
    "    (MinMaxScaler(), [\"age\", \"bmi\", \"children\"]),\n",
    "    (OneHotEncoder(handle_unknown=\"ignore\"), [\"sex\", \"smoker\", \"region\"])\n",
    ")\n",
    "\n",
    "X = insurance.drop([\"charges\"], axis=1)\n",
    "y = insurance[\"charges\"] \n",
    "X_train, X_test, y_train, y_test = train_test_split(X, y, test_size= 0.2, random_state = 42) \n",
    "ct.fit(X_train)\n",
    "X_train_normal = ct.transform(X_train)\n",
    "X_test_normal = ct.transform(X_test)\n"
>>>>>>> c2caa4f6cea36bc0672f7177ae412ba2be5408d2
   ]
  },
  {
   "cell_type": "code",
<<<<<<< HEAD
   "execution_count": 3,
   "metadata": {},
   "outputs": [],
   "source": [
    "# pd.DataFrame(history.history).plot()\n"
=======
   "execution_count": 68,
   "metadata": {},
   "outputs": [
    {
     "name": "stdout",
     "output_type": "stream",
     "text": [
      "9/9 [==============================] - 0s 873us/step - loss: 4496.4463 - mae: 4496.4463\n"
     ]
    },
    {
     "data": {
      "text/plain": [
       "[4496.4462890625, 4496.4462890625]"
      ]
     },
     "execution_count": 68,
     "metadata": {},
     "output_type": "execute_result"
    }
   ],
   "source": [
    "model.fit(X_train_normal, y_train, epochs=100, verbose=0)\n",
    "model.evaluate(X_test_normal, y_test)"
>>>>>>> c2caa4f6cea36bc0672f7177ae412ba2be5408d2
   ]
  }
 ],
 "metadata": {
  "kernelspec": {
   "display_name": "Python 3.10.1 64-bit",
   "language": "python",
   "name": "python3"
  },
  "language_info": {
   "codemirror_mode": {
    "name": "ipython",
    "version": 3
   },
   "file_extension": ".py",
   "mimetype": "text/x-python",
   "name": "python",
   "nbconvert_exporter": "python",
   "pygments_lexer": "ipython3",
<<<<<<< HEAD
   "version": "3.10.9 (tags/v3.10.9:1dd9be6, Dec  6 2022, 20:01:21) [MSC v.1934 64 bit (AMD64)]"
=======
   "version": "3.10.1"
>>>>>>> c2caa4f6cea36bc0672f7177ae412ba2be5408d2
  },
  "orig_nbformat": 4,
  "vscode": {
   "interpreter": {
    "hash": "369f2c481f4da34e4445cda3fffd2e751bd1c4d706f27375911949ba6bb62e1c"
   }
  }
 },
 "nbformat": 4,
 "nbformat_minor": 2
}
